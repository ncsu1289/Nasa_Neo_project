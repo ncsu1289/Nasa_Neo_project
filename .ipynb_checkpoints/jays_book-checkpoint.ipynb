{
 "cells": [
  {
   "cell_type": "code",
   "execution_count": 14,
   "metadata": {
    "collapsed": true
   },
   "outputs": [],
   "source": [
    "import json\n",
    "import pandas as pd\n",
    "import os\n",
    "import requests as req"
   ]
  },
  {
   "cell_type": "code",
   "execution_count": 21,
   "metadata": {
    "collapsed": true
   },
   "outputs": [],
   "source": [
    "api_key = \"\"\n",
    "start_date = \"2017-11-07=\"\n",
    "end_date = \"2017-11-14\"\n",
    "\n",
    "query_url = \"https://api.nasa.gov/neo/rest/v1/feed?\" + start_date + end_date + \"&api_key=\" + api_key\n",
    "basic_url = \"https://api.nasa.gov/neo/rest/v1/neo/browse?\""
   ]
  },
  {
   "cell_type": "code",
   "execution_count": 22,
   "metadata": {},
   "outputs": [
    {
     "name": "stdout",
     "output_type": "stream",
     "text": [
      "https://api.nasa.gov/neo/rest/v1/feed?2017-11-07=2017-11-14&api_key=mRYlyiCfuNPBnciiXPQ3cZfhlXku5k5ihivCQSVv\n"
     ]
    }
   ],
   "source": [
    "print(query_url)"
   ]
  },
  {
   "cell_type": "code",
   "execution_count": 23,
   "metadata": {},
   "outputs": [
    {
     "name": "stdout",
     "output_type": "stream",
     "text": [
      "https://api.nasa.gov/neo/rest/v1/neo/browse?api_key=mRYlyiCfuNPBnciiXPQ3cZfhlXku5k5ihivCQSVv\n"
     ]
    }
   ],
   "source": [
    "query_url_2 = \"https://api.nasa.gov/neo/rest/v1/neo/browse?api_key=\" + api_key\n",
    "print(query_url_2)"
   ]
  },
  {
   "cell_type": "code",
   "execution_count": 24,
   "metadata": {
    "collapsed": true
   },
   "outputs": [],
   "source": [
    "response2 = req.get(query_url_2).json()"
   ]
  },
  {
   "cell_type": "code",
   "execution_count": 25,
   "metadata": {},
   "outputs": [
    {
     "data": {
      "text/plain": [
       "dict_keys(['links', 'page', 'near_earth_objects'])"
      ]
     },
     "execution_count": 25,
     "metadata": {},
     "output_type": "execute_result"
    }
   ],
   "source": [
    "response2.keys()"
   ]
  },
  {
   "cell_type": "code",
   "execution_count": 26,
   "metadata": {
    "collapsed": true
   },
   "outputs": [
    {
     "data": {
      "text/plain": [
       "'{\\n    \"links\": {\\n        \"next\": \"https://api.nasa.gov/neo/rest/v1/neo/browse?page=1&size=20&api_key=mRYlyiCfuNPBnciiXPQ3cZfhlXku5k5ihivCQSVv\",\\n        \"self\": \"https://api.nasa.gov/neo/rest/v1/neo/browse?page=0&size=20&api_key=mRYlyiCfuNPBnciiXPQ3cZfhlXku5k5ihivCQSVv\"\\n    },\\n    \"page\": {\\n        \"size\": 20,\\n        \"total_elements\": 17579,\\n        \"total_pages\": 878,\\n        \"number\": 0\\n    },\\n    \"near_earth_objects\": [\\n        {\\n            \"links\": {\\n                \"self\": \"https://api.nasa.gov/neo/rest/v1/neo/2021277?api_key=mRYlyiCfuNPBnciiXPQ3cZfhlXku5k5ihivCQSVv\"\\n            },\\n            \"neo_reference_id\": \"2021277\",\\n            \"name\": \"21277 (1996 TO5)\",\\n            \"nasa_jpl_url\": \"http://ssd.jpl.nasa.gov/sbdb.cgi?sstr=2021277\",\\n            \"absolute_magnitude_h\": 16.0,\\n            \"estimated_diameter\": {\\n                \"kilometers\": {\\n                    \"estimated_diameter_min\": 1.6770846216,\\n                    \"estimated_diameter_max\": 3.750075218\\n                },\\n                \"meters\": {\\n                    \"estimated_diameter_min\": 1677.0846216284,\\n                    \"estimated_diameter_max\": 3750.0752179805\\n                },\\n                \"miles\": {\\n                    \"estimated_diameter_min\": 1.0420917484,\\n                    \"estimated_diameter_max\": 2.3301879883\\n                },\\n                \"feet\": {\\n                    \"estimated_diameter_min\": 5502.2463100232,\\n                    \"estimated_diameter_max\": 12303.3967781592\\n                }\\n            },\\n            \"is_potentially_hazardous_asteroid\": false,\\n            \"close_approach_data\": [\\n                {\\n                    \"close_approach_date\": \"1945-06-07\",\\n                    \"epoch_date_close_approach\": -775328400000,\\n                    \"relative_velocity\": {\\n                        \"kilometers_per_second\": \"15.5095198576\",\\n                        \"kilometers_per_hour\": \"55834.2714874122\",\\n                        \"miles_per_hour\": \"34693.2449694979\"\\n                    },\\n                    \"miss_distance\": {\\n                        \"astronomical\": \"0.0334263473\",\\n                        \"lunar\": \"13.0028495789\",\\n                        \"kilometers\": \"5000510.5\",\\n                        \"miles\": \"3107173.25\"\\n                    },\\n                    \"orbiting_body\": \"Mars\"\\n                }\\n            ],\\n            \"orbital_data\": {\\n                \"orbit_id\": \"98\",\\n                \"orbit_determination_date\": \"2017-04-06 09:29:34\",\\n                \"orbit_uncertainty\": \"0\",\\n                \"minimum_orbit_intersection\": \".313372\",\\n                \"jupiter_tisserand_invariant\": \"3.267\",\\n                \"epoch_osculation\": \"2458000.5\",\\n                \"eccentricity\": \".5204050681261931\",\\n                \"semi_major_axis\": \"2.377065592293492\",\\n                \"inclination\": \"20.95047154769285\",\\n                \"ascending_node_longitude\": \"167.3995452250696\",\\n                \"orbital_period\": \"1338.628834056353\",\\n                \"perihelion_distance\": \"1.140028610795568\",\\n                \"perihelion_argument\": \"250.179646628075\",\\n                \"aphelion_distance\": \"3.614102573791417\",\\n                \"perihelion_time\": \"2458492.728981364743\",\\n                \"mean_anomaly\": \"227.6239232391675\",\\n                \"mean_motion\": \".2689319031841838\",\\n                \"equinox\": \"J2000\"\\n            }\\n        },\\n        {\\n            \"links\": {\\n                \"self\": \"https://api.nasa.gov/neo/rest/v1/neo/2153306?api_key=mRYlyiCfuNPBnciiXPQ3cZfhlXku5k5ihivCQSVv\"\\n            },\\n            \"neo_reference_id\": \"2153306\",\\n            \"name\": \"153306 (2001 JL1)\",\\n            \"nasa_jpl_url\": \"http://ssd.jpl.nasa.gov/sbdb.cgi?sstr=2153306\",\\n            \"absolute_magnitude_h\": 16.7,\\n            \"estimated_diameter\": {\\n                \"kilometers\": {\\n                    \"estimated_diameter_min\": 1.214940408,\\n                    \"estimated_diameter_max\": 2.7166893409\\n                },\\n                \"meters\": {\\n                    \"estimated_diameter_min\": 1214.9404079963,\\n                    \"estimated_diameter_max\": 2716.6893408911\\n                },\\n                \"miles\": {\\n                    \"estimated_diameter_min\": 0.7549287363,\\n                    \"estimated_diameter_max\": 1.6880719724\\n                },\\n                \"feet\": {\\n                    \"estimated_diameter_min\": 3986.0250881707,\\n                    \"estimated_diameter_max\": 8913.0230571693\\n                }\\n            },\\n            \"is_potentially_hazardous_asteroid\": false,\\n            \"close_approach_data\": [\\n                {\\n                    \"close_approach_date\": \"1932-03-30\",\\n                    \"epoch_date_close_approach\": -1191513600000,\\n                    \"relative_velocity\": {\\n                        \"kilometers_per_second\": \"13.355195182\",\\n                        \"kilometers_per_hour\": \"48078.7026552619\",\\n                        \"miles_per_hour\": \"29874.2361026543\"\\n                    },\\n                    \"miss_distance\": {\\n                        \"astronomical\": \"0.4923804009\",\\n                        \"lunar\": \"191.5359802246\",\\n                        \"kilometers\": \"73659064\",\\n                        \"miles\": \"45769620\"\\n                    },\\n                    \"orbiting_body\": \"Earth\"\\n                },\\n                {\\n                    \"close_approach_date\": \"2058-03-29\",\\n                    \"epoch_date_close_approach\": 2784610800000,\\n                    \"relative_velocity\": {\\n                        \"kilometers_per_second\": \"13.3718414291\",\\n                        \"kilometers_per_hour\": \"48138.6291446722\",\\n                        \"miles_per_hour\": \"29911.4720926992\"\\n                    },\\n                    \"miss_distance\": {\\n                        \"astronomical\": \"0.4928210432\",\\n                        \"lunar\": \"191.7073822021\",\\n                        \"kilometers\": \"73724976\",\\n                        \"miles\": \"45810576\"\\n                    },\\n                    \"orbiting_body\": \"Earth\"\\n                },\\n                {\\n                    \"close_approach_date\": \"2188-03-28\",\\n                    \"epoch_date_close_approach\": 6886969200000,\\n                    \"relative_velocity\": {\\n                        \"kilometers_per_second\": \"13.9636728538\",\\n                        \"kilometers_per_hour\": \"50269.2222737099\",\\n                        \"miles_per_hour\": \"31235.3398066838\"\\n                    },\\n                    \"miss_distance\": {\\n                        \"astronomical\": \"0.4919367051\",\\n                        \"lunar\": \"191.3633880615\",\\n                        \"kilometers\": \"73592688\",\\n                        \"miles\": \"45728376\"\\n                    },\\n                    \"orbiting_body\": \"Earth\"\\n                }\\n            ],\\n            \"orbital_data\": {\\n                \"orbit_id\": \"107\",\\n                \"orbit_determination_date\": \"2017-04-06 09:27:06\",\\n                \"orbit_uncertainty\": \"0\",\\n                \"minimum_orbit_intersection\": \".508061\",\\n                \"jupiter_tisserand_invariant\": \"3.102\",\\n                \"epoch_osculation\": \"2458000.5\",\\n                \"eccentricity\": \".5227955371259507\",\\n                \"semi_major_axis\": \"2.553756449443951\",\\n                \"inclination\": \"26.98032572040052\",\\n                \"ascending_node_longitude\": \"226.6573296994756\",\\n                \"orbital_period\": \"1490.622394245675\",\\n                \"perihelion_distance\": \"1.21866397476804\",\\n                \"perihelion_argument\": \"272.5257159452576\",\\n                \"aphelion_distance\": \"3.888848924119862\",\\n                \"perihelion_time\": \"2457881.504240496563\",\\n                \"mean_anomaly\": \"28.73864875947703\",\\n                \"mean_motion\": \".241509856144471\",\\n                \"equinox\": \"J2000\"\\n            }\\n        },\\n        {\\n            \"links\": {\\n                \"self\": \"https://api.nasa.gov/neo/rest/v1/neo/2162038?api_key=mRYlyiCfuNPBnciiXPQ3cZfhlXku5k5ihivCQSVv\"\\n            },\\n            \"neo_reference_id\": \"2162038\",\\n            \"name\": \"162038 (1996 DH)\",\\n            \"nasa_jpl_url\": \"http://ssd.jpl.nasa.gov/sbdb.cgi?sstr=2162038\",\\n            \"absolute_magnitude_h\": 16.6,\\n            \"estimated_diameter\": {\\n                \"kilometers\": {\\n                    \"estimated_diameter_min\": 1.2721987854,\\n                    \"estimated_diameter_max\": 2.844722965\\n                },\\n                \"meters\": {\\n                    \"estimated_diameter_min\": 1272.1987853936,\\n                    \"estimated_diameter_max\": 2844.7229650327\\n                },\\n                \"miles\": {\\n                    \"estimated_diameter_min\": 0.7905074315,\\n                    \"estimated_diameter_max\": 1.7676283535\\n                },\\n                \"feet\": {\\n                    \"estimated_diameter_min\": 4173.8806630706,\\n                    \"estimated_diameter_max\": 9333.0808925979\\n                }\\n            },\\n            \"is_potentially_hazardous_asteroid\": false,\\n            \"close_approach_data\": [],\\n            \"orbital_data\": {\\n                \"orbit_id\": \"184\",\\n                \"orbit_determination_date\": \"2017-04-06 09:26:40\",\\n                \"orbit_uncertainty\": \"1\",\\n                \"minimum_orbit_intersection\": \".134892\",\\n                \"jupiter_tisserand_invariant\": \"4.293\",\\n                \"epoch_osculation\": \"2458000.5\",\\n                \"eccentricity\": \".2765906966720856\",\\n                \"semi_major_axis\": \"1.586866018596505\",\\n                \"inclination\": \"17.23118191295469\",\\n                \"ascending_node_longitude\": \"309.3012724533345\",\\n                \"orbital_period\": \"730.144498367798\",\\n                \"perihelion_distance\": \"1.147953640987639\",\\n                \"perihelion_argument\": \"351.5348408994461\",\\n                \"aphelion_distance\": \"2.025778396205371\",\\n                \"perihelion_time\": \"2457716.260989409657\",\\n                \"mean_anomaly\": \"140.1449220548376\",\\n                \"mean_motion\": \".4930530885389978\",\\n                \"equinox\": \"J2000\"\\n            }\\n        },\\n        {\\n            \"links\": {\\n                \"self\": \"https://api.nasa.gov/neo/rest/v1/neo/2163335?api_key=mRYlyiCfuNPBnciiXPQ3cZfhlXku5k5ihivCQSVv\"\\n            },\\n            \"neo_reference_id\": \"2163335\",\\n            \"name\": \"163335 (2002 LJ)\",\\n            \"nasa_jpl_url\": \"http://ssd.jpl.nasa.gov/sbdb.cgi?sstr=2163335\",\\n            \"absolute_magnitude_h\": 17.0,\\n            \"estimated_diameter\": {\\n                \"kilometers\": {\\n                    \"estimated_diameter_min\": 1.0581688593,\\n                    \"estimated_diameter_max\": 2.3661375011\\n                },\\n                \"meters\": {\\n                    \"estimated_diameter_min\": 1058.1688593312,\\n                    \"estimated_diameter_max\": 2366.137501138\\n                },\\n                \"miles\": {\\n                    \"estimated_diameter_min\": 0.6575154423,\\n                    \"estimated_diameter_max\": 1.4702492252\\n                },\\n                \"feet\": {\\n                    \"estimated_diameter_min\": 3471.6827204482,\\n                    \"estimated_diameter_max\": 7762.9185592335\\n                }\\n            },\\n            \"is_potentially_hazardous_asteroid\": false,\\n            \"close_approach_data\": [\\n                {\\n                    \"close_approach_date\": \"1901-06-12\",\\n                    \"epoch_date_close_approach\": -2163427200000,\\n                    \"relative_velocity\": {\\n                        \"kilometers_per_second\": \"30.0460206212\",\\n                        \"kilometers_per_hour\": \"108165.6742361897\",\\n                        \"miles_per_hour\": \"67209.9435274813\"\\n                    },\\n                    \"miss_distance\": {\\n                        \"astronomical\": \"0.4909440755\",\\n                        \"lunar\": \"190.9772491455\",\\n                        \"kilometers\": \"73444192\",\\n                        \"miles\": \"45636104\"\\n                    },\\n                    \"orbiting_body\": \"Earth\"\\n                },\\n                {\\n                    \"close_approach_date\": \"1927-06-14\",\\n                    \"epoch_date_close_approach\": -1342800000000,\\n                    \"relative_velocity\": {\\n                        \"kilometers_per_second\": \"28.8013962641\",\\n                        \"kilometers_per_hour\": \"103685.0265507031\",\\n                        \"miles_per_hour\": \"64425.84330313\"\\n                    },\\n                    \"miss_distance\": {\\n                        \"astronomical\": \"0.4964582063\",\\n                        \"lunar\": \"193.1222381592\",\\n                        \"kilometers\": \"74269088\",\\n                        \"miles\": \"46148672\"\\n                    },\\n                    \"orbiting_body\": \"Earth\"\\n                }\\n            ],\\n            \"orbital_data\": {\\n                \"orbit_id\": \"66\",\\n                \"orbit_determination_date\": \"2017-06-03 06:19:36\",\\n                \"orbit_uncertainty\": \"0\",\\n                \"minimum_orbit_intersection\": \".501031\",\\n                \"jupiter_tisserand_invariant\": \"4.336\",\\n                \"epoch_osculation\": \"2458000.5\",\\n                \"eccentricity\": \".6671307618164383\",\\n                \"semi_major_axis\": \"1.327962043075027\",\\n                \"inclination\": \"56.31282891416037\",\\n                \"ascending_node_longitude\": \"247.0556270301461\",\\n                \"orbital_period\": \"558.9550955568759\",\\n                \"perihelion_distance\": \".4420377136150705\",\\n                \"perihelion_argument\": \"155.6280818282431\",\\n                \"aphelion_distance\": \"2.213886372534984\",\\n                \"perihelion_time\": \"2458102.308380062561\",\\n                \"mean_anomaly\": \"294.4294074535496\",\\n                \"mean_motion\": \".6440588928549602\",\\n                \"equinox\": \"J2000\"\\n            }\\n        },\\n        {\\n            \"links\": {\\n                \"self\": \"https://api.nasa.gov/neo/rest/v1/neo/2189058?api_key=mRYlyiCfuNPBnciiXPQ3cZfhlXku5k5ihivCQSVv\"\\n            },\\n            \"neo_reference_id\": \"2189058\",\\n            \"name\": \"189058 (2000 UT16)\",\\n            \"nasa_jpl_url\": \"http://ssd.jpl.nasa.gov/sbdb.cgi?sstr=2189058\",\\n            \"absolute_magnitude_h\": 16.5,\\n            \"estimated_diameter\": {\\n                \"kilometers\": {\\n                    \"estimated_diameter_min\": 1.332155667,\\n                    \"estimated_diameter_max\": 2.978790628\\n                },\\n                \"meters\": {\\n                    \"estimated_diameter_min\": 1332.1556669813,\\n                    \"estimated_diameter_max\": 2978.7906279817\\n                },\\n                \"miles\": {\\n                    \"estimated_diameter_min\": 0.8277628989,\\n                    \"estimated_diameter_max\": 1.8509341113\\n                },\\n                \"feet\": {\\n                    \"estimated_diameter_min\": 4370.5895984589,\\n                    \"estimated_diameter_max\": 9772.9354439076\\n                }\\n            },\\n            \"is_potentially_hazardous_asteroid\": false,\\n            \"close_approach_data\": [],\\n            \"orbital_data\": {\\n                \"orbit_id\": \"129\",\\n                \"orbit_determination_date\": \"2017-04-06 09:25:47\",\\n                \"orbit_uncertainty\": \"0\",\\n                \"minimum_orbit_intersection\": \".538789\",\\n                \"jupiter_tisserand_invariant\": \"3.108\",\\n                \"epoch_osculation\": \"2458000.5\",\\n                \"eccentricity\": \".5114188802005835\",\\n                \"semi_major_axis\": \"2.569890804085108\",\\n                \"inclination\": \"26.23314263037786\",\\n                \"ascending_node_longitude\": \"257.2635451006278\",\\n                \"orbital_period\": \"1504.771067543074\",\\n                \"perihelion_distance\": \"1.255600126822125\",\\n                \"perihelion_argument\": \"91.3157178005813\",\\n                \"aphelion_distance\": \"3.884181481348091\",\\n                \"perihelion_time\": \"2457775.010011345411\",\\n                \"mean_anomaly\": \"53.94601057036105\",\\n                \"mean_motion\": \".2392390495570816\",\\n                \"equinox\": \"J2000\"\\n            }\\n        },\\n        {\\n            \"links\": {\\n                \"self\": \"https://api.nasa.gov/neo/rest/v1/neo/2210012?api_key=mRYlyiCfuNPBnciiXPQ3cZfhlXku5k5ihivCQSVv\"\\n            },\\n            \"neo_reference_id\": \"2210012\",\\n            \"name\": \"210012 (2006 KT1)\",\\n            \"nasa_jpl_url\": \"http://ssd.jpl.nasa.gov/sbdb.cgi?sstr=2210012\",\\n            \"absolute_magnitude_h\": 16.7,\\n            \"estimated_diameter\": {\\n                \"kilometers\": {\\n                    \"estimated_diameter_min\": 1.214940408,\\n                    \"estimated_diameter_max\": 2.7166893409\\n                },\\n                \"meters\": {\\n                    \"estimated_diameter_min\": 1214.9404079963,\\n                    \"estimated_diameter_max\": 2716.6893408911\\n                },\\n                \"miles\": {\\n                    \"estimated_diameter_min\": 0.7549287363,\\n                    \"estimated_diameter_max\": 1.6880719724\\n                },\\n                \"feet\": {\\n                    \"estimated_diameter_min\": 3986.0250881707,\\n                    \"estimated_diameter_max\": 8913.0230571693\\n                }\\n            },\\n            \"is_potentially_hazardous_asteroid\": false,\\n            \"close_approach_data\": [\\n                {\\n                    \"close_approach_date\": \"1956-01-02\",\\n                    \"epoch_date_close_approach\": -441734400000,\\n                    \"relative_velocity\": {\\n                        \"kilometers_per_second\": \"1.9913554268\",\\n                        \"kilometers_per_hour\": \"7168.8795364125\",\\n                        \"miles_per_hour\": \"4454.462954167\"\\n                    },\\n                    \"miss_distance\": {\\n                        \"astronomical\": \"1.959431733\",\\n                        \"lunar\": \"762.2189331055\",\\n                        \"kilometers\": \"293126816\",\\n                        \"miles\": \"182140560\"\\n                    },\\n                    \"orbiting_body\": \"Juptr\"\\n                },\\n                {\\n                    \"close_approach_date\": \"2110-01-27\",\\n                    \"epoch_date_close_approach\": 4420252800000,\\n                    \"relative_velocity\": {\\n                        \"kilometers_per_second\": \"1.9863629873\",\\n                        \"kilometers_per_hour\": \"7150.9067542093\",\\n                        \"miles_per_hour\": \"4443.2953662475\"\\n                    },\\n                    \"miss_distance\": {\\n                        \"astronomical\": \"1.9624459538\",\\n                        \"lunar\": \"763.3914794922\",\\n                        \"kilometers\": \"293577728\",\\n                        \"miles\": \"182420752\"\\n                    },\\n                    \"orbiting_body\": \"Juptr\"\\n                },\\n                {\\n                    \"close_approach_date\": \"2169-09-12\",\\n                    \"epoch_date_close_approach\": 6301868400000,\\n                    \"relative_velocity\": {\\n                        \"kilometers_per_second\": \"1.9890696157\",\\n                        \"kilometers_per_hour\": \"7160.6506164144\",\\n                        \"miles_per_hour\": \"4449.3498232937\"\\n                    },\\n                    \"miss_distance\": {\\n                        \"astronomical\": \"1.9668418759\",\\n                        \"lunar\": \"765.1014404297\",\\n                        \"kilometers\": \"294235360\",\\n                        \"miles\": \"182829376\"\\n                    },\\n                    \"orbiting_body\": \"Juptr\"\\n                }\\n            ],\\n            \"orbital_data\": {\\n                \"orbit_id\": \"65\",\\n                \"orbit_determination_date\": \"2017-09-02 06:20:21\",\\n                \"orbit_uncertainty\": \"0\",\\n                \"minimum_orbit_intersection\": \".205195\",\\n                \"jupiter_tisserand_invariant\": \"3.413\",\\n                \"epoch_osculation\": \"2458000.5\",\\n                \"eccentricity\": \".4730111384218558\",\\n                \"semi_major_axis\": \"2.30751949143143\",\\n                \"inclination\": \"9.250499702507168\",\\n                \"ascending_node_longitude\": \"138.6676340984405\",\\n                \"orbital_period\": \"1280.313999022161\",\\n                \"perihelion_distance\": \"1.216037069858828\",\\n                \"perihelion_argument\": \"189.3466540619464\",\\n                \"aphelion_distance\": \"3.399001913004033\",\\n                \"perihelion_time\": \"2457894.539859463461\",\\n                \"mean_anomaly\": \"29.79398071276862\",\\n                \"mean_motion\": \".281181022995101\",\\n                \"equinox\": \"J2000\"\\n            }\\n        },\\n        {\\n            \"links\": {\\n                \"self\": \"https://api.nasa.gov/neo/rest/v1/neo/2276274?api_key=mRYlyiCfuNPBnciiXPQ3cZfhlXku5k5ihivCQSVv\"\\n            },\\n            \"neo_reference_id\": \"2276274\",\\n            \"name\": \"276274 (2002 SS41)\",\\n            \"nasa_jpl_url\": \"http://ssd.jpl.nasa.gov/sbdb.cgi?sstr=2276274\",\\n            \"absolute_magnitude_h\": 17.2,\\n            \"estimated_diameter\": {\\n                \"kilometers\": {\\n                    \"estimated_diameter_min\": 0.9650614696,\\n                    \"estimated_diameter_max\": 2.1579430484\\n                },\\n                \"meters\": {\\n                    \"estimated_diameter_min\": 965.0614695789,\\n                    \"estimated_diameter_max\": 2157.9430484443\\n                },\\n                \"miles\": {\\n                    \"estimated_diameter_min\": 0.5996612104,\\n                    \"estimated_diameter_max\": 1.34088323\\n                },\\n                \"feet\": {\\n                    \"estimated_diameter_min\": 3166.2122718533,\\n                    \"estimated_diameter_max\": 7079.8658710581\\n                }\\n            },\\n            \"is_potentially_hazardous_asteroid\": false,\\n            \"close_approach_data\": [],\\n            \"orbital_data\": {\\n                \"orbit_id\": \"94\",\\n                \"orbit_determination_date\": \"2015-01-08 11:12:05\",\\n                \"orbit_uncertainty\": \"0\",\\n                \"minimum_orbit_intersection\": \".600743\",\\n                \"jupiter_tisserand_invariant\": \"2.993\",\\n                \"epoch_osculation\": \"2457600.5\",\\n                \"eccentricity\": \".3826831275030616\",\\n                \"semi_major_axis\": \"2.104740374542074\",\\n                \"inclination\": \"63.68286998824724\",\\n                \"ascending_node_longitude\": \"190.125241798393\",\\n                \"orbital_period\": \"1115.311614869463\",\\n                \"perihelion_distance\": \"1.299291745430348\",\\n                \"perihelion_argument\": \"101.8029165672748\",\\n                \"aphelion_distance\": \"2.9101890036538\",\\n                \"perihelion_time\": \"2457977.671756231325\",\\n                \"mean_anomaly\": \"238.2565962435808\",\\n                \"mean_motion\": \".3227797462166075\",\\n                \"equinox\": \"J2000\"\\n            }\\n        },\\n        {\\n            \"links\": {\\n                \"self\": \"https://api.nasa.gov/neo/rest/v1/neo/2277473?api_key=mRYlyiCfuNPBnciiXPQ3cZfhlXku5k5ihivCQSVv\"\\n            },\\n            \"neo_reference_id\": \"2277473\",\\n            \"name\": \"277473 (2005 WD1)\",\\n            \"nasa_jpl_url\": \"http://ssd.jpl.nasa.gov/sbdb.cgi?sstr=2277473\",\\n            \"absolute_magnitude_h\": 16.9,\\n            \"estimated_diameter\": {\\n                \"kilometers\": {\\n                    \"estimated_diameter_min\": 1.1080388213,\\n                    \"estimated_diameter_max\": 2.4776501261\\n                },\\n                \"meters\": {\\n                    \"estimated_diameter_min\": 1108.0388212642,\\n                    \"estimated_diameter_max\": 2477.6501260554\\n                },\\n                \"miles\": {\\n                    \"estimated_diameter_min\": 0.6885031904,\\n                    \"estimated_diameter_max\": 1.5395399365\\n                },\\n                \"feet\": {\\n                    \"estimated_diameter_min\": 3635.2980863563,\\n                    \"estimated_diameter_max\": 8128.7736395675\\n                }\\n            },\\n            \"is_potentially_hazardous_asteroid\": false,\\n            \"close_approach_data\": [\\n                {\\n                    \"close_approach_date\": \"1930-08-27\",\\n                    \"epoch_date_close_approach\": -1241712000000,\\n                    \"relative_velocity\": {\\n                        \"kilometers_per_second\": \"19.2132548783\",\\n                        \"kilometers_per_hour\": \"69167.717562029\",\\n                        \"miles_per_hour\": \"42978.1298373619\"\\n                    },\\n                    \"miss_distance\": {\\n                        \"astronomical\": \"0.0869169525\",\\n                        \"lunar\": \"33.8106956482\",\\n                        \"kilometers\": \"13002591\",\\n                        \"miles\": \"8079435.5\"\\n                    },\\n                    \"orbiting_body\": \"Mars\"\\n                },\\n                {\\n                    \"close_approach_date\": \"1933-11-01\",\\n                    \"epoch_date_close_approach\": -1141315200000,\\n                    \"relative_velocity\": {\\n                        \"kilometers_per_second\": \"22.8034770119\",\\n                        \"kilometers_per_hour\": \"82092.5172426762\",\\n                        \"miles_per_hour\": \"51009.0977278173\"\\n                    },\\n                    \"miss_distance\": {\\n                        \"astronomical\": \"0.4921574292\",\\n                        \"lunar\": \"191.4492340088\",\\n                        \"kilometers\": \"73625704\",\\n                        \"miles\": \"45748892\"\\n                    },\\n                    \"orbiting_body\": \"Earth\"\\n                }\\n            ],\\n            \"orbital_data\": {\\n                \"orbit_id\": \"65\",\\n                \"orbit_determination_date\": \"2017-05-04 06:19:32\",\\n                \"orbit_uncertainty\": \"0\",\\n                \"minimum_orbit_intersection\": \".497797\",\\n                \"jupiter_tisserand_invariant\": \"3.217\",\\n                \"epoch_osculation\": \"2458000.5\",\\n                \"eccentricity\": \".4416188782334515\",\\n                \"semi_major_axis\": \"2.200218932997854\",\\n                \"inclination\": \"43.07606691083987\",\\n                \"ascending_node_longitude\": \"52.32478299554463\",\\n                \"orbital_period\": \"1192.057688275644\",\\n                \"perihelion_distance\": \"1.22856071593934\",\\n                \"perihelion_argument\": \"285.8752252405493\",\\n                \"aphelion_distance\": \"3.171877150056368\",\\n                \"perihelion_time\": \"2458286.534752192714\",\\n                \"mean_anomaly\": \"273.6178460135341\",\\n                \"mean_motion\": \".3019988072227893\",\\n                \"equinox\": \"J2000\"\\n            }\\n        },\\n        {\\n            \"links\": {\\n                \"self\": \"https://api.nasa.gov/neo/rest/v1/neo/2305090?api_key=mRYlyiCfuNPBnciiXPQ3cZfhlXku5k5ihivCQSVv\"\\n            },\\n            \"neo_reference_id\": \"2305090\",\\n            \"name\": \"305090 (2007 VQ4)\",\\n            \"nasa_jpl_url\": \"http://ssd.jpl.nasa.gov/sbdb.cgi?sstr=2305090\",\\n            \"absolute_magnitude_h\": 16.2,\\n            \"estimated_diameter\": {\\n                \"kilometers\": {\\n                    \"estimated_diameter_min\": 1.5295193534,\\n                    \"estimated_diameter_max\": 3.4201092472\\n                },\\n                \"meters\": {\\n                    \"estimated_diameter_min\": 1529.5193534422,\\n                    \"estimated_diameter_max\": 3420.1092471982\\n                },\\n                \"miles\": {\\n                    \"estimated_diameter_min\": 0.9503989702,\\n                    \"estimated_diameter_max\": 2.125156703\\n                },\\n                \"feet\": {\\n                    \"estimated_diameter_min\": 5018.1082755472,\\n                    \"estimated_diameter_max\": 11220.8312225778\\n                }\\n            },\\n            \"is_potentially_hazardous_asteroid\": false,\\n            \"close_approach_data\": [\\n                {\\n                    \"close_approach_date\": \"2011-03-01\",\\n                    \"epoch_date_close_approach\": 1298966400000,\\n                    \"relative_velocity\": {\\n                        \"kilometers_per_second\": \"6.5612739638\",\\n                        \"kilometers_per_hour\": \"23620.5862696343\",\\n                        \"miles_per_hour\": \"14676.9137295958\"\\n                    },\\n                    \"miss_distance\": {\\n                        \"astronomical\": \"1.9877802308\",\\n                        \"lunar\": \"773.2465209961\",\\n                        \"kilometers\": \"297367680\",\\n                        \"miles\": \"184775712\"\\n                    },\\n                    \"orbiting_body\": \"Juptr\"\\n                },\\n                {\\n                    \"close_approach_date\": \"2165-05-08\",\\n                    \"epoch_date_close_approach\": 6164665200000,\\n                    \"relative_velocity\": {\\n                        \"kilometers_per_second\": \"6.7705786352\",\\n                        \"kilometers_per_hour\": \"24374.0830868144\",\\n                        \"miles_per_hour\": \"15145.1073491375\"\\n                    },\\n                    \"miss_distance\": {\\n                        \"astronomical\": \"1.9546625612\",\\n                        \"lunar\": \"760.3637084961\",\\n                        \"kilometers\": \"292413344\",\\n                        \"miles\": \"181697232\"\\n                    },\\n                    \"orbiting_body\": \"Juptr\"\\n                }\\n            ],\\n            \"orbital_data\": {\\n                \"orbit_id\": \"129\",\\n                \"orbit_determination_date\": \"2017-05-31 06:19:03\",\\n                \"orbit_uncertainty\": \"0\",\\n                \"minimum_orbit_intersection\": \".51508\",\\n                \"jupiter_tisserand_invariant\": \"3.065\",\\n                \"epoch_osculation\": \"2458000.5\",\\n                \"eccentricity\": \".5156059622942213\",\\n                \"semi_major_axis\": \"2.634757630444018\",\\n                \"inclination\": \"26.62452842157099\",\\n                \"ascending_node_longitude\": \"58.76641201417981\",\\n                \"orbital_period\": \"1562.102161266296\",\\n                \"perihelion_distance\": \"1.276260886986888\",\\n                \"perihelion_argument\": \"100.1608022948959\",\\n                \"aphelion_distance\": \"3.993254373901149\",\\n                \"perihelion_time\": \"2457659.495561803543\",\\n                \"mean_anomaly\": \"78.58743224016128\",\\n                \"mean_motion\": \".2304586786488863\",\\n                \"equinox\": \"J2000\"\\n            }\\n        },\\n        {\\n            \"links\": {\\n                \"self\": \"https://api.nasa.gov/neo/rest/v1/neo/2315020?api_key=mRYlyiCfuNPBnciiXPQ3cZfhlXku5k5ihivCQSVv\"\\n            },\\n            \"neo_reference_id\": \"2315020\",\\n            \"name\": \"315020 (2007 BG49)\",\\n            \"nasa_jpl_url\": \"http://ssd.jpl.nasa.gov/sbdb.cgi?sstr=2315020\",\\n            \"absolute_magnitude_h\": 18.7,\\n            \"estimated_diameter\": {\\n                \"kilometers\": {\\n                    \"estimated_diameter_min\": 0.4836764882,\\n                    \"estimated_diameter_max\": 1.0815335068\\n                },\\n                \"meters\": {\\n                    \"estimated_diameter_min\": 483.6764882185,\\n                    \"estimated_diameter_max\": 1081.533506775\\n                },\\n                \"miles\": {\\n                    \"estimated_diameter_min\": 0.3005425432,\\n                    \"estimated_diameter_max\": 0.6720335566\\n                },\\n                \"feet\": {\\n                    \"estimated_diameter_min\": 1586.8651696069,\\n                    \"estimated_diameter_max\": 3548.3383903678\\n                }\\n            },\\n            \"is_potentially_hazardous_asteroid\": false,\\n            \"close_approach_data\": [\\n                {\\n                    \"close_approach_date\": \"1990-05-26\",\\n                    \"epoch_date_close_approach\": 643705200000,\\n                    \"relative_velocity\": {\\n                        \"kilometers_per_second\": \"9.0514965677\",\\n                        \"kilometers_per_hour\": \"32585.3876436497\",\\n                        \"miles_per_hour\": \"20247.2926722444\"\\n                    },\\n                    \"miss_distance\": {\\n                        \"astronomical\": \"0.069829549\",\\n                        \"lunar\": \"27.1636924744\",\\n                        \"kilometers\": \"10446351\",\\n                        \"miles\": \"6491062\"\\n                    },\\n                    \"orbiting_body\": \"Mars\"\\n                },\\n                {\\n                    \"close_approach_date\": \"1997-11-29\",\\n                    \"epoch_date_close_approach\": 880790400000,\\n                    \"relative_velocity\": {\\n                        \"kilometers_per_second\": \"8.0513365545\",\\n                        \"kilometers_per_hour\": \"28984.8115963295\",\\n                        \"miles_per_hour\": \"18010.0347388415\"\\n                    },\\n                    \"miss_distance\": {\\n                        \"astronomical\": \"0.0306685091\",\\n                        \"lunar\": \"11.9300498962\",\\n                        \"kilometers\": \"4587943.5\",\\n                        \"miles\": \"2850816\"\\n                    },\\n                    \"orbiting_body\": \"Mars\"\\n                },\\n                {\\n                    \"close_approach_date\": \"2005-06-03\",\\n                    \"epoch_date_close_approach\": 1117782000000,\\n                    \"relative_velocity\": {\\n                        \"kilometers_per_second\": \"7.1648690525\",\\n                        \"kilometers_per_hour\": \"25793.5285889591\",\\n                        \"miles_per_hour\": \"16027.0955835119\"\\n                    },\\n                    \"miss_distance\": {\\n                        \"astronomical\": \"0.0654111748\",\\n                        \"lunar\": \"25.4449462891\",\\n                        \"kilometers\": \"9785372\",\\n                        \"miles\": \"6080348.5\"\\n                    },\\n                    \"orbiting_body\": \"Mars\"\\n                },\\n                {\\n                    \"close_approach_date\": \"2102-06-06\",\\n                    \"epoch_date_close_approach\": 4179020400000,\\n                    \"relative_velocity\": {\\n                        \"kilometers_per_second\": \"8.0529285357\",\\n                        \"kilometers_per_hour\": \"28990.5427285948\",\\n                        \"miles_per_hour\": \"18013.5958415538\"\\n                    },\\n                    \"miss_distance\": {\\n                        \"astronomical\": \"0.0915540244\",\\n                        \"lunar\": \"35.6145133972\",\\n                        \"kilometers\": \"13696287\",\\n                        \"miles\": \"8510478\"\\n                    },\\n                    \"orbiting_body\": \"Mars\"\\n                }\\n            ],\\n            \"orbital_data\": {\\n                \"orbit_id\": \"44\",\\n                \"orbit_determination_date\": \"2017-04-06 09:23:48\",\\n                \"orbit_uncertainty\": \"0\",\\n                \"minimum_orbit_intersection\": \".281085\",\\n                \"jupiter_tisserand_invariant\": \"3.939\",\\n                \"epoch_osculation\": \"2458000.5\",\\n                \"eccentricity\": \".3209075935706747\",\\n                \"semi_major_axis\": \"1.843814092829196\",\\n                \"inclination\": \"7.89418922271434\",\\n                \"ascending_node_longitude\": \"332.8541369966142\",\\n                \"orbital_period\": \"914.4798110633976\",\\n                \"perihelion_distance\": \"1.252120149307682\",\\n                \"perihelion_argument\": \"281.4763315572985\",\\n                \"aphelion_distance\": \"2.43550803635071\",\\n                \"perihelion_time\": \"2458022.605206415996\",\\n                \"mean_anomaly\": \"351.2979223669193\",\\n                \"mean_motion\": \".393666427235147\",\\n                \"equinox\": \"J2000\"\\n            }\\n        },\\n        {\\n            \"links\": {\\n                \"self\": \"https://api.nasa.gov/neo/rest/v1/neo/2322913?api_key=mRYlyiCfuNPBnciiXPQ3cZfhlXku5k5ihivCQSVv\"\\n            },\\n            \"neo_reference_id\": \"2322913\",\\n            \"name\": \"322913 (2002 CM1)\",\\n            \"nasa_jpl_url\": \"http://ssd.jpl.nasa.gov/sbdb.cgi?sstr=2322913\",\\n            \"absolute_magnitude_h\": 16.9,\\n            \"estimated_diameter\": {\\n                \"kilometers\": {\\n                    \"estimated_diameter_min\": 1.1080388213,\\n                    \"estimated_diameter_max\": 2.4776501261\\n                },\\n                \"meters\": {\\n                    \"estimated_diameter_min\": 1108.0388212642,\\n                    \"estimated_diameter_max\": 2477.6501260554\\n                },\\n                \"miles\": {\\n                    \"estimated_diameter_min\": 0.6885031904,\\n                    \"estimated_diameter_max\": 1.5395399365\\n                },\\n                \"feet\": {\\n                    \"estimated_diameter_min\": 3635.2980863563,\\n                    \"estimated_diameter_max\": 8128.7736395675\\n                }\\n            },\\n            \"is_potentially_hazardous_asteroid\": false,\\n            \"close_approach_data\": [],\\n            \"orbital_data\": {\\n                \"orbit_id\": \"43\",\\n                \"orbit_determination_date\": \"2017-04-06 09:23:44\",\\n                \"orbit_uncertainty\": \"0\",\\n                \"minimum_orbit_intersection\": \".578603\",\\n                \"jupiter_tisserand_invariant\": \"3.097\",\\n                \"epoch_osculation\": \"2458000.5\",\\n                \"eccentricity\": \".461606140135784\",\\n                \"semi_major_axis\": \"2.299885710722227\",\\n                \"inclination\": \"44.98839592548462\",\\n                \"ascending_node_longitude\": \"308.1542816674928\",\\n                \"orbital_period\": \"1273.965917100423\",\\n                \"perihelion_distance\": \"1.238244345042296\",\\n                \"perihelion_argument\": \"84.2157056551053\",\\n                \"aphelion_distance\": \"3.361527076402159\",\\n                \"perihelion_time\": \"2458482.270846043538\",\\n                \"mean_anomaly\": \"223.8601690613343\",\\n                \"mean_motion\": \".2825821281148311\",\\n                \"equinox\": \"J2000\"\\n            }\\n        },\\n        {\\n            \"links\": {\\n                \"self\": \"https://api.nasa.gov/neo/rest/v1/neo/2341816?api_key=mRYlyiCfuNPBnciiXPQ3cZfhlXku5k5ihivCQSVv\"\\n            },\\n            \"neo_reference_id\": \"2341816\",\\n            \"name\": \"341816 (2007 YK)\",\\n            \"nasa_jpl_url\": \"http://ssd.jpl.nasa.gov/sbdb.cgi?sstr=2341816\",\\n            \"absolute_magnitude_h\": 17.5,\\n            \"estimated_diameter\": {\\n                \"kilometers\": {\\n                    \"estimated_diameter_min\": 0.8405334021,\\n                    \"estimated_diameter_max\": 1.8794898244\\n                },\\n                \"meters\": {\\n                    \"estimated_diameter_min\": 840.5334020728,\\n                    \"estimated_diameter_max\": 1879.4898243938\\n                },\\n                \"miles\": {\\n                    \"estimated_diameter_min\": 0.5222830806,\\n                    \"estimated_diameter_max\": 1.1678604717\\n                },\\n                \"feet\": {\\n                    \"estimated_diameter_min\": 2757.6556068564,\\n                    \"estimated_diameter_max\": 6166.3053954643\\n                }\\n            },\\n            \"is_potentially_hazardous_asteroid\": false,\\n            \"close_approach_data\": [\\n                {\\n                    \"close_approach_date\": \"1990-01-13\",\\n                    \"epoch_date_close_approach\": 632217600000,\\n                    \"relative_velocity\": {\\n                        \"kilometers_per_second\": \"16.1331131262\",\\n                        \"kilometers_per_hour\": \"58079.2072544057\",\\n                        \"miles_per_hour\": \"36088.16075205\"\\n                    },\\n                    \"miss_distance\": {\\n                        \"astronomical\": \"0.499589884\",\\n                        \"lunar\": \"194.3404693604\",\\n                        \"kilometers\": \"74737584\",\\n                        \"miles\": \"46439780\"\\n                    },\\n                    \"orbiting_body\": \"Earth\"\\n                },\\n                {\\n                    \"close_approach_date\": \"2123-01-15\",\\n                    \"epoch_date_close_approach\": 4829443200000,\\n                    \"relative_velocity\": {\\n                        \"kilometers_per_second\": \"16.172773194\",\\n                        \"kilometers_per_hour\": \"58221.9834985098\",\\n                        \"miles_per_hour\": \"36176.8763577268\"\\n                    },\\n                    \"miss_distance\": {\\n                        \"astronomical\": \"0.4985538713\",\\n                        \"lunar\": \"193.9374542236\",\\n                        \"kilometers\": \"74582600\",\\n                        \"miles\": \"46343480\"\\n                    },\\n                    \"orbiting_body\": \"Earth\"\\n                }\\n            ],\\n            \"orbital_data\": {\\n                \"orbit_id\": \"62\",\\n                \"orbit_determination_date\": \"2017-09-16 06:20:31\",\\n                \"orbit_uncertainty\": \"0\",\\n                \"minimum_orbit_intersection\": \".50007\",\\n                \"jupiter_tisserand_invariant\": \"3.747\",\\n                \"epoch_osculation\": \"2458000.5\",\\n                \"eccentricity\": \".3219254263571161\",\\n                \"semi_major_axis\": \"1.870212231164527\",\\n                \"inclination\": \"31.83304227950462\",\\n                \"ascending_node_longitude\": \"132.8819946970839\",\\n                \"orbital_period\": \"934.1890367739545\",\\n                \"perihelion_distance\": \"1.268143361268593\",\\n                \"perihelion_argument\": \"281.4066069543745\",\\n                \"aphelion_distance\": \"2.47228110106046\",\\n                \"perihelion_time\": \"2458104.486319593431\",\\n                \"mean_anomaly\": \"319.9277302772572\",\\n                \"mean_motion\": \".3853609770921654\",\\n                \"equinox\": \"J2000\"\\n            }\\n        },\\n        {\\n            \"links\": {\\n                \"self\": \"https://api.nasa.gov/neo/rest/v1/neo/2356285?api_key=mRYlyiCfuNPBnciiXPQ3cZfhlXku5k5ihivCQSVv\"\\n            },\\n            \"neo_reference_id\": \"2356285\",\\n            \"name\": \"356285 (2010 DE)\",\\n            \"nasa_jpl_url\": \"http://ssd.jpl.nasa.gov/sbdb.cgi?sstr=2356285\",\\n            \"absolute_magnitude_h\": 17.3,\\n            \"estimated_diameter\": {\\n                \"kilometers\": {\\n                    \"estimated_diameter_min\": 0.9216265485,\\n                    \"estimated_diameter_max\": 2.0608196123\\n                },\\n                \"meters\": {\\n                    \"estimated_diameter_min\": 921.6265485028,\\n                    \"estimated_diameter_max\": 2060.8196123208\\n                },\\n                \"miles\": {\\n                    \"estimated_diameter_min\": 0.5726720101,\\n                    \"estimated_diameter_max\": 1.2805335433\\n                },\\n                \"feet\": {\\n                    \"estimated_diameter_min\": 3023.70924539,\\n                    \"estimated_diameter_max\": 6761.2194168867\\n                }\\n            },\\n            \"is_potentially_hazardous_asteroid\": false,\\n            \"close_approach_data\": [\\n                {\\n                    \"close_approach_date\": \"1957-09-17\",\\n                    \"epoch_date_close_approach\": -387824400000,\\n                    \"relative_velocity\": {\\n                        \"kilometers_per_second\": \"13.6651845862\",\\n                        \"kilometers_per_hour\": \"49194.6645103988\",\\n                        \"miles_per_hour\": \"30567.6514009198\"\\n                    },\\n                    \"miss_distance\": {\\n                        \"astronomical\": \"0.0706313644\",\\n                        \"lunar\": \"27.4755992889\",\\n                        \"kilometers\": \"10566302\",\\n                        \"miles\": \"6565595.5\"\\n                    },\\n                    \"orbiting_body\": \"Mars\"\\n                },\\n                {\\n                    \"close_approach_date\": \"2083-09-21\",\\n                    \"epoch_date_close_approach\": 3588735600000,\\n                    \"relative_velocity\": {\\n                        \"kilometers_per_second\": \"13.7306751388\",\\n                        \"kilometers_per_hour\": \"49430.4304998474\",\\n                        \"miles_per_hour\": \"30714.1472180857\"\\n                    },\\n                    \"miss_distance\": {\\n                        \"astronomical\": \"0.0566806402\",\\n                        \"lunar\": \"22.0487689972\",\\n                        \"kilometers\": \"8479303\",\\n                        \"miles\": \"5268794.5\"\\n                    },\\n                    \"orbiting_body\": \"Mars\"\\n                },\\n                {\\n                    \"close_approach_date\": \"2108-02-07\",\\n                    \"epoch_date_close_approach\": 4358044800000,\\n                    \"relative_velocity\": {\\n                        \"kilometers_per_second\": \"11.1953716556\",\\n                        \"kilometers_per_hour\": \"40303.3379601888\",\\n                        \"miles_per_hour\": \"25042.9268564295\"\\n                    },\\n                    \"miss_distance\": {\\n                        \"astronomical\": \"0.4970379868\",\\n                        \"lunar\": \"193.3477783203\",\\n                        \"kilometers\": \"74355824\",\\n                        \"miles\": \"46202568\"\\n                    },\\n                    \"orbiting_body\": \"Earth\"\\n                },\\n                {\\n                    \"close_approach_date\": \"2191-02-11\",\\n                    \"epoch_date_close_approach\": 6977692800000,\\n                    \"relative_velocity\": {\\n                        \"kilometers_per_second\": \"11.3914067189\",\\n                        \"kilometers_per_hour\": \"41009.0641881829\",\\n                        \"miles_per_hour\": \"25481.4376895962\"\\n                    },\\n                    \"miss_distance\": {\\n                        \"astronomical\": \"0.4952583054\",\\n                        \"lunar\": \"192.6554718018\",\\n                        \"kilometers\": \"74089584\",\\n                        \"miles\": \"46037136\"\\n                    },\\n                    \"orbiting_body\": \"Earth\"\\n                }\\n            ],\\n            \"orbital_data\": {\\n                \"orbit_id\": \"50\",\\n                \"orbit_determination_date\": \"2017-04-06 09:22:58\",\\n                \"orbit_uncertainty\": \"1\",\\n                \"minimum_orbit_intersection\": \".500155\",\\n                \"jupiter_tisserand_invariant\": \"3.531\",\\n                \"epoch_osculation\": \"2458000.5\",\\n                \"eccentricity\": \".3969871659859251\",\\n                \"semi_major_axis\": \"2.113167402817771\",\\n                \"inclination\": \"23.98586477979843\",\\n                \"ascending_node_longitude\": \"177.01653396953\",\\n                \"orbital_period\": \"1122.016596724831\",\\n                \"perihelion_distance\": \"1.274267064319306\",\\n                \"perihelion_argument\": \"276.9548047121901\",\\n                \"aphelion_distance\": \"2.952067741316236\",\\n                \"perihelion_time\": \"2458423.528111852044\",\\n                \"mean_anomaly\": \"224.2710627353723\",\\n                \"mean_motion\": \".3208508689183751\",\\n                \"equinox\": \"J2000\"\\n            }\\n        },\\n        {\\n            \"links\": {\\n                \"self\": \"https://api.nasa.gov/neo/rest/v1/neo/2385580?api_key=mRYlyiCfuNPBnciiXPQ3cZfhlXku5k5ihivCQSVv\"\\n            },\\n            \"neo_reference_id\": \"2385580\",\\n            \"name\": \"385580 (2004 XO14)\",\\n            \"nasa_jpl_url\": \"http://ssd.jpl.nasa.gov/sbdb.cgi?sstr=2385580\",\\n            \"absolute_magnitude_h\": 16.1,\\n            \"estimated_diameter\": {\\n                \"kilometers\": {\\n                    \"estimated_diameter_min\": 1.6016033798,\\n                    \"estimated_diameter_max\": 3.5812940302\\n                },\\n                \"meters\": {\\n                    \"estimated_diameter_min\": 1601.6033797856,\\n                    \"estimated_diameter_max\": 3581.2940301941\\n                },\\n                \"miles\": {\\n                    \"estimated_diameter_min\": 0.9951898937,\\n                    \"estimated_diameter_max\": 2.2253122528\\n                },\\n                \"feet\": {\\n                    \"estimated_diameter_min\": 5254.6044325359,\\n                    \"estimated_diameter_max\": 11749.652706022\\n                }\\n            },\\n            \"is_potentially_hazardous_asteroid\": false,\\n            \"close_approach_data\": [\\n                {\\n                    \"close_approach_date\": \"1969-12-22\",\\n                    \"epoch_date_close_approach\": -835200000,\\n                    \"relative_velocity\": {\\n                        \"kilometers_per_second\": \"14.3383307562\",\\n                        \"kilometers_per_hour\": \"51617.9907221962\",\\n                        \"miles_per_hour\": \"32073.4120684668\"\\n                    },\\n                    \"miss_distance\": {\\n                        \"astronomical\": \"0.4748663889\",\\n                        \"lunar\": \"184.7230224609\",\\n                        \"kilometers\": \"71039000\",\\n                        \"miles\": \"44141588\"\\n                    },\\n                    \"orbiting_body\": \"Earth\"\\n                },\\n                {\\n                    \"close_approach_date\": \"2017-12-24\",\\n                    \"epoch_date_close_approach\": 1514102400000,\\n                    \"relative_velocity\": {\\n                        \"kilometers_per_second\": \"12.9033740769\",\\n                        \"kilometers_per_hour\": \"46452.1466768609\",\\n                        \"miles_per_hour\": \"28863.5574726306\"\\n                    },\\n                    \"miss_distance\": {\\n                        \"astronomical\": \"0.4727682342\",\\n                        \"lunar\": \"183.9068450928\",\\n                        \"kilometers\": \"70725120\",\\n                        \"miles\": \"43946556\"\\n                    },\\n                    \"orbiting_body\": \"Earth\"\\n                },\\n                {\\n                    \"close_approach_date\": \"2126-12-23\",\\n                    \"epoch_date_close_approach\": 4953686400000,\\n                    \"relative_velocity\": {\\n                        \"kilometers_per_second\": \"15.151522599\",\\n                        \"kilometers_per_hour\": \"54545.4813563348\",\\n                        \"miles_per_hour\": \"33892.4409016626\"\\n                    },\\n                    \"miss_distance\": {\\n                        \"astronomical\": \"0.4653049598\",\\n                        \"lunar\": \"181.0036315918\",\\n                        \"kilometers\": \"69608632\",\\n                        \"miles\": \"43252800\"\\n                    },\\n                    \"orbiting_body\": \"Earth\"\\n                },\\n                {\\n                    \"close_approach_date\": \"2174-12-25\",\\n                    \"epoch_date_close_approach\": 6468624000000,\\n                    \"relative_velocity\": {\\n                        \"kilometers_per_second\": \"13.2321120957\",\\n                        \"kilometers_per_hour\": \"47635.6035444707\",\\n                        \"miles_per_hour\": \"29598.9115468407\"\\n                    },\\n                    \"miss_distance\": {\\n                        \"astronomical\": \"0.464747294\",\\n                        \"lunar\": \"180.7866973877\",\\n                        \"kilometers\": \"69525208\",\\n                        \"miles\": \"43200960\"\\n                    },\\n                    \"orbiting_body\": \"Earth\"\\n                }\\n            ],\\n            \"orbital_data\": {\\n                \"orbit_id\": \"109\",\\n                \"orbit_determination_date\": \"2017-09-25 06:52:15\",\\n                \"orbit_uncertainty\": \"0\",\\n                \"minimum_orbit_intersection\": \".465698\",\\n                \"jupiter_tisserand_invariant\": \"3.021\",\\n                \"epoch_osculation\": \"2458000.5\",\\n                \"eccentricity\": \".5550438432071698\",\\n                \"semi_major_axis\": \"2.669374003941744\",\\n                \"inclination\": \"25.93202457272238\",\\n                \"ascending_node_longitude\": \"129.5155914488446\",\\n                \"orbital_period\": \"1592.988229902615\",\\n                \"perihelion_distance\": \"1.187754397836607\",\\n                \"perihelion_argument\": \"276.2928896082279\",\\n                \"aphelion_distance\": \"4.15099361004688\",\\n                \"perihelion_time\": \"2458057.680399682029\",\\n                \"mean_anomaly\": \"347.077780300493\",\\n                \"mean_motion\": \".2259903703255912\",\\n                \"equinox\": \"J2000\"\\n            }\\n        },\\n        {\\n            \"links\": {\\n                \"self\": \"https://api.nasa.gov/neo/rest/v1/neo/2397237?api_key=mRYlyiCfuNPBnciiXPQ3cZfhlXku5k5ihivCQSVv\"\\n            },\\n            \"neo_reference_id\": \"2397237\",\\n            \"name\": \"397237 (2006 KZ112)\",\\n            \"nasa_jpl_url\": \"http://ssd.jpl.nasa.gov/sbdb.cgi?sstr=2397237\",\\n            \"absolute_magnitude_h\": 16.7,\\n            \"estimated_diameter\": {\\n                \"kilometers\": {\\n                    \"estimated_diameter_min\": 1.214940408,\\n                    \"estimated_diameter_max\": 2.7166893409\\n                },\\n                \"meters\": {\\n                    \"estimated_diameter_min\": 1214.9404079963,\\n                    \"estimated_diameter_max\": 2716.6893408911\\n                },\\n                \"miles\": {\\n                    \"estimated_diameter_min\": 0.7549287363,\\n                    \"estimated_diameter_max\": 1.6880719724\\n                },\\n                \"feet\": {\\n                    \"estimated_diameter_min\": 3986.0250881707,\\n                    \"estimated_diameter_max\": 8913.0230571693\\n                }\\n            },\\n            \"is_potentially_hazardous_asteroid\": false,\\n            \"close_approach_data\": [\\n                {\\n                    \"close_approach_date\": \"1927-07-10\",\\n                    \"epoch_date_close_approach\": -1340553600000,\\n                    \"relative_velocity\": {\\n                        \"kilometers_per_second\": \"16.3030669092\",\\n                        \"kilometers_per_hour\": \"58691.0408730214\",\\n                        \"miles_per_hour\": \"36468.3303691282\"\\n                    },\\n                    \"miss_distance\": {\\n                        \"astronomical\": \"1.9985523017\",\\n                        \"lunar\": \"777.4368286133\",\\n                        \"kilometers\": \"298979168\",\\n                        \"miles\": \"185777040\"\\n                    },\\n                    \"orbiting_body\": \"Juptr\"\\n                },\\n                {\\n                    \"close_approach_date\": \"1939-05-18\",\\n                    \"epoch_date_close_approach\": -966441600000,\\n                    \"relative_velocity\": {\\n                        \"kilometers_per_second\": \"16.1907295612\",\\n                        \"kilometers_per_hour\": \"58286.6264203945\",\\n                        \"miles_per_hour\": \"36217.0429554946\"\\n                    },\\n                    \"miss_distance\": {\\n                        \"astronomical\": \"1.9715103402\",\\n                        \"lunar\": \"766.9174804688\",\\n                        \"kilometers\": \"294933760\",\\n                        \"miles\": \"183263328\"\\n                    },\\n                    \"orbiting_body\": \"Juptr\"\\n                },\\n                {\\n                    \"close_approach_date\": \"2042-04-25\",\\n                    \"epoch_date_close_approach\": 2282022000000,\\n                    \"relative_velocity\": {\\n                        \"kilometers_per_second\": \"51.9700930077\",\\n                        \"kilometers_per_hour\": \"187092.3348276854\",\\n                        \"miles_per_hour\": \"116251.9010489027\"\\n                    },\\n                    \"miss_distance\": {\\n                        \"astronomical\": \"0.0906054593\",\\n                        \"lunar\": \"35.2455253601\",\\n                        \"kilometers\": \"13554384\",\\n                        \"miles\": \"8422304\"\\n                    },\\n                    \"orbiting_body\": \"Merc\"\\n                }\\n            ],\\n            \"orbital_data\": {\\n                \"orbit_id\": \"48\",\\n                \"orbit_determination_date\": \"2017-09-19 06:50:22\",\\n                \"orbit_uncertainty\": \"0\",\\n                \"minimum_orbit_intersection\": \".530235\",\\n                \"jupiter_tisserand_invariant\": \"2.569\",\\n                \"epoch_osculation\": \"2458000.5\",\\n                \"eccentricity\": \".8868673561107936\",\\n                \"semi_major_axis\": \"2.52497166246926\",\\n                \"inclination\": \"37.783555240814\",\\n                \"ascending_node_longitude\": \"166.2929556458733\",\\n                \"orbital_period\": \"1465.491114274745\",\\n                \"perihelion_distance\": \".2856567199204723\",\\n                \"perihelion_argument\": \"358.1865641646623\",\\n                \"aphelion_distance\": \"4.764286605018048\",\\n                \"perihelion_time\": \"2458221.514821451110\",\\n                \"mean_anomaly\": \"305.7073912305668\",\\n                \"mean_motion\": \".245651438274438\",\\n                \"equinox\": \"J2000\"\\n            }\\n        },\\n        {\\n            \"links\": {\\n                \"self\": \"https://api.nasa.gov/neo/rest/v1/neo/2431394?api_key=mRYlyiCfuNPBnciiXPQ3cZfhlXku5k5ihivCQSVv\"\\n            },\\n            \"neo_reference_id\": \"2431394\",\\n            \"name\": \"431394 (2007 FS35)\",\\n            \"nasa_jpl_url\": \"http://ssd.jpl.nasa.gov/sbdb.cgi?sstr=2431394\",\\n            \"absolute_magnitude_h\": 19.5,\\n            \"estimated_diameter\": {\\n                \"kilometers\": {\\n                    \"estimated_diameter_min\": 0.3346223745,\\n                    \"estimated_diameter_max\": 0.7482383761\\n                },\\n                \"meters\": {\\n                    \"estimated_diameter_min\": 334.6223744549,\\n                    \"estimated_diameter_max\": 748.2383760735\\n                },\\n                \"miles\": {\\n                    \"estimated_diameter_min\": 0.2079246394,\\n                    \"estimated_diameter_max\": 0.464933628\\n                },\\n                \"feet\": {\\n                    \"estimated_diameter_min\": 1097.8424710066,\\n                    \"estimated_diameter_max\": 2454.8503937571\\n                }\\n            },\\n            \"is_potentially_hazardous_asteroid\": false,\\n            \"close_approach_data\": [\\n                {\\n                    \"close_approach_date\": \"2113-12-23\",\\n                    \"epoch_date_close_approach\": 4543459200000,\\n                    \"relative_velocity\": {\\n                        \"kilometers_per_second\": \"7.6193570414\",\\n                        \"kilometers_per_hour\": \"27429.6853489005\",\\n                        \"miles_per_hour\": \"17043.739765821\"\\n                    },\\n                    \"miss_distance\": {\\n                        \"astronomical\": \"0.0203520996\",\\n                        \"lunar\": \"7.9169664383\",\\n                        \"kilometers\": \"3044630.75\",\\n                        \"miles\": \"1891845.875\"\\n                    },\\n                    \"orbiting_body\": \"Mars\"\\n                },\\n                {\\n                    \"close_approach_date\": \"2159-11-17\",\\n                    \"epoch_date_close_approach\": 5991955200000,\\n                    \"relative_velocity\": {\\n                        \"kilometers_per_second\": \"9.0814073119\",\\n                        \"kilometers_per_hour\": \"32693.0663229774\",\\n                        \"miles_per_hour\": \"20314.2000160745\"\\n                    },\\n                    \"miss_distance\": {\\n                        \"astronomical\": \"0.0940007746\",\\n                        \"lunar\": \"36.5662994385\",\\n                        \"kilometers\": \"14062315\",\\n                        \"miles\": \"8737918\"\\n                    },\\n                    \"orbiting_body\": \"Mars\"\\n                }\\n            ],\\n            \"orbital_data\": {\\n                \"orbit_id\": \"39\",\\n                \"orbit_determination_date\": \"2017-04-06 09:20:54\",\\n                \"orbit_uncertainty\": \"0\",\\n                \"minimum_orbit_intersection\": \".156372\",\\n                \"jupiter_tisserand_invariant\": \"3.826\",\\n                \"epoch_osculation\": \"2458000.5\",\\n                \"eccentricity\": \".3899960612074325\",\\n                \"semi_major_axis\": \"1.922324647969829\",\\n                \"inclination\": \".3191740553337366\",\\n                \"ascending_node_longitude\": \"183.0177670172889\",\\n                \"orbital_period\": \"973.5057669889867\",\\n                \"perihelion_distance\": \"1.172625606899632\",\\n                \"perihelion_argument\": \"107.3623666414743\",\\n                \"aphelion_distance\": \"2.672023689040027\",\\n                \"perihelion_time\": \"2458237.091243562142\",\\n                \"mean_anomaly\": \"272.5091493337454\",\\n                \"mean_motion\": \".3697975011626949\",\\n                \"equinox\": \"J2000\"\\n            }\\n        },\\n        {\\n            \"links\": {\\n                \"self\": \"https://api.nasa.gov/neo/rest/v1/neo/2435730?api_key=mRYlyiCfuNPBnciiXPQ3cZfhlXku5k5ihivCQSVv\"\\n            },\\n            \"neo_reference_id\": \"2435730\",\\n            \"name\": \"435730 (2008 UK90)\",\\n            \"nasa_jpl_url\": \"http://ssd.jpl.nasa.gov/sbdb.cgi?sstr=2435730\",\\n            \"absolute_magnitude_h\": 18.9,\\n            \"estimated_diameter\": {\\n                \"kilometers\": {\\n                    \"estimated_diameter_min\": 0.4411182,\\n                    \"estimated_diameter_max\": 0.9863702813\\n                },\\n                \"meters\": {\\n                    \"estimated_diameter_min\": 441.1181999969,\\n                    \"estimated_diameter_max\": 986.3702813054\\n                },\\n                \"miles\": {\\n                    \"estimated_diameter_min\": 0.2740980571,\\n                    \"estimated_diameter_max\": 0.6129018881\\n                },\\n                \"feet\": {\\n                    \"estimated_diameter_min\": 1447.2382352778,\\n                    \"estimated_diameter_max\": 3236.1230737181\\n                }\\n            },\\n            \"is_potentially_hazardous_asteroid\": false,\\n            \"close_approach_data\": [],\\n            \"orbital_data\": {\\n                \"orbit_id\": \"21\",\\n                \"orbit_determination_date\": \"2017-04-12 06:15:44\",\\n                \"orbit_uncertainty\": \"1\",\\n                \"minimum_orbit_intersection\": \".563372\",\\n                \"jupiter_tisserand_invariant\": \"3.545\",\\n                \"epoch_osculation\": \"2458000.5\",\\n                \"eccentricity\": \".3709454771832371\",\\n                \"semi_major_axis\": \"2.003811325212398\",\\n                \"inclination\": \"34.65565428966807\",\\n                \"ascending_node_longitude\": \"48.82587683086223\",\\n                \"orbital_period\": \"1036.057042449061\",\\n                \"perihelion_distance\": \"1.26050657699631\",\\n                \"perihelion_argument\": \"91.41726893886667\",\\n                \"aphelion_distance\": \"2.747116073428486\",\\n                \"perihelion_time\": \"2458043.469593397698\",\\n                \"mean_anomaly\": \"345.0693031470498\",\\n                \"mean_motion\": \".3474712156282649\",\\n                \"equinox\": \"J2000\"\\n            }\\n        },\\n        {\\n            \"links\": {\\n                \"self\": \"https://api.nasa.gov/neo/rest/v1/neo/2451297?api_key=mRYlyiCfuNPBnciiXPQ3cZfhlXku5k5ihivCQSVv\"\\n            },\\n            \"neo_reference_id\": \"2451297\",\\n            \"name\": \"451297 (2010 TK54)\",\\n            \"nasa_jpl_url\": \"http://ssd.jpl.nasa.gov/sbdb.cgi?sstr=2451297\",\\n            \"absolute_magnitude_h\": 19.2,\\n            \"estimated_diameter\": {\\n                \"kilometers\": {\\n                    \"estimated_diameter_min\": 0.3841978911,\\n                    \"estimated_diameter_max\": 0.8590926012\\n                },\\n                \"meters\": {\\n                    \"estimated_diameter_min\": 384.1978910643,\\n                    \"estimated_diameter_max\": 859.0926012318\\n                },\\n                \"miles\": {\\n                    \"estimated_diameter_min\": 0.2387294278,\\n                    \"estimated_diameter_max\": 0.5338152287\\n                },\\n                \"feet\": {\\n                    \"estimated_diameter_min\": 1260.4918089193,\\n                    \"estimated_diameter_max\": 2818.5453698252\\n                }\\n            },\\n            \"is_potentially_hazardous_asteroid\": true,\\n            \"close_approach_data\": [],\\n            \"orbital_data\": {\\n                \"orbit_id\": \"24\",\\n                \"orbit_determination_date\": \"2017-04-06 09:20:08\",\\n                \"orbit_uncertainty\": \"1\",\\n                \"minimum_orbit_intersection\": \".0148586\",\\n                \"jupiter_tisserand_invariant\": \"3.715\",\\n                \"epoch_osculation\": \"2458000.5\",\\n                \"eccentricity\": \".49508511701562\",\\n                \"semi_major_axis\": \"1.840359699986773\",\\n                \"inclination\": \"30.80651813587574\",\\n                \"ascending_node_longitude\": \"28.18472508036083\",\\n                \"orbital_period\": \"911.9110929287807\",\\n                \"perihelion_distance\": \".9292250025679901\",\\n                \"perihelion_argument\": \"222.9210484296119\",\\n                \"aphelion_distance\": \"2.751494397405555\",\\n                \"perihelion_time\": \"2457975.688270555248\",\\n                \"mean_anomaly\": \"9.79505860754807\",\\n                \"mean_motion\": \".3947753271032043\",\\n                \"equinox\": \"J2000\"\\n            }\\n        },\\n        {\\n            \"links\": {\\n                \"self\": \"https://api.nasa.gov/neo/rest/v1/neo/2452307?api_key=mRYlyiCfuNPBnciiXPQ3cZfhlXku5k5ihivCQSVv\"\\n            },\\n            \"neo_reference_id\": \"2452307\",\\n            \"name\": \"452307 Manawydan (1997 XV11)\",\\n            \"nasa_jpl_url\": \"http://ssd.jpl.nasa.gov/sbdb.cgi?sstr=2452307\",\\n            \"absolute_magnitude_h\": 18.3,\\n            \"estimated_diameter\": {\\n                \"kilometers\": {\\n                    \"estimated_diameter_min\": 0.5815070396,\\n                    \"estimated_diameter_max\": 1.30028927\\n                },\\n                \"meters\": {\\n                    \"estimated_diameter_min\": 581.5070396458,\\n                    \"estimated_diameter_max\": 1300.2892700427\\n                },\\n                \"miles\": {\\n                    \"estimated_diameter_min\": 0.3613316107,\\n                    \"estimated_diameter_max\": 0.807962044\\n                },\\n                \"feet\": {\\n                    \"estimated_diameter_min\": 1907.8315559515,\\n                    \"estimated_diameter_max\": 4266.0410487267\\n                }\\n            },\\n            \"is_potentially_hazardous_asteroid\": false,\\n            \"close_approach_data\": [],\\n            \"orbital_data\": {\\n                \"orbit_id\": \"42\",\\n                \"orbit_determination_date\": \"2017-04-06 09:20:07\",\\n                \"orbit_uncertainty\": \"0\",\\n                \"minimum_orbit_intersection\": \".584394\",\\n                \"jupiter_tisserand_invariant\": \"3.600\",\\n                \"epoch_osculation\": \"2458000.5\",\\n                \"eccentricity\": \".3177759552910391\",\\n                \"semi_major_axis\": \"1.867173549488825\",\\n                \"inclination\": \"44.26721036361658\",\\n                \"ascending_node_longitude\": \"241.2568788853779\",\\n                \"orbital_period\": \"931.9131856580047\",\\n                \"perihelion_distance\": \"1.273830691105854\",\\n                \"perihelion_argument\": \"270.1825323453298\",\\n                \"aphelion_distance\": \"2.460516407871797\",\\n                \"perihelion_time\": \"2458381.625877025984\",\\n                \"mean_anomaly\": \"212.7702817806183\",\\n                \"mean_motion\": \".3863020778548287\",\\n                \"equinox\": \"J2000\"\\n            }\\n        },\\n        {\\n            \"links\": {\\n                \"self\": \"https://api.nasa.gov/neo/rest/v1/neo/2452421?api_key=mRYlyiCfuNPBnciiXPQ3cZfhlXku5k5ihivCQSVv\"\\n            },\\n            \"neo_reference_id\": \"2452421\",\\n            \"name\": \"452421 (2002 VX99)\",\\n            \"nasa_jpl_url\": \"http://ssd.jpl.nasa.gov/sbdb.cgi?sstr=2452421\",\\n            \"absolute_magnitude_h\": 18.4,\\n            \"estimated_diameter\": {\\n                \"kilometers\": {\\n                    \"estimated_diameter_min\": 0.5553349116,\\n                    \"estimated_diameter_max\": 1.2417666126\\n                },\\n                \"meters\": {\\n                    \"estimated_diameter_min\": 555.334911581,\\n                    \"estimated_diameter_max\": 1241.766612574\\n                },\\n                \"miles\": {\\n                    \"estimated_diameter_min\": 0.3450690093,\\n                    \"estimated_diameter_max\": 0.7715977618\\n                },\\n                \"feet\": {\\n                    \"estimated_diameter_min\": 1821.9649913114,\\n                    \"estimated_diameter_max\": 4074.0375731972\\n                }\\n            },\\n            \"is_potentially_hazardous_asteroid\": false,\\n            \"close_approach_data\": [],\\n            \"orbital_data\": {\\n                \"orbit_id\": \"33\",\\n                \"orbit_determination_date\": \"2017-04-06 09:20:05\",\\n                \"orbit_uncertainty\": \"0\",\\n                \"minimum_orbit_intersection\": \".516112\",\\n                \"jupiter_tisserand_invariant\": \"3.089\",\\n                \"epoch_osculation\": \"2458000.5\",\\n                \"eccentricity\": \".5121616086785697\",\\n                \"semi_major_axis\": \"2.631687659396925\",\\n                \"inclination\": \"24.49784156168383\",\\n                \"ascending_node_longitude\": \"234.3260917008125\",\\n                \"orbital_period\": \"1559.372757728991\",\\n                \"perihelion_distance\": \"1.283838274220656\",\\n                \"perihelion_argument\": \"259.9387020648878\",\\n                \"aphelion_distance\": \"3.979537044573193\",\\n                \"perihelion_time\": \"2457392.950469043294\",\\n                \"mean_anomaly\": \"140.2601334801734\",\\n                \"mean_motion\": \".2308620554102086\",\\n                \"equinox\": \"J2000\"\\n            }\\n        }\\n    ]\\n}'"
      ]
     },
     "execution_count": 26,
     "metadata": {},
     "output_type": "execute_result"
    }
   ],
   "source": [
    "json.dumps(response2, indent=4)"
   ]
  },
  {
   "cell_type": "code",
   "execution_count": 27,
   "metadata": {
    "collapsed": true
   },
   "outputs": [],
   "source": [
    "ast_bank=[]\n",
    "tot_ast_bank=[]\n",
    "for i in range(20): \n",
    "    tot_ast_bank.append(req.get(basic_url + \"page=%s&size=20&api_key=%s\"%(i,api_key)).json())\n",
    "    "
   ]
  },
  {
   "cell_type": "code",
   "execution_count": 28,
   "metadata": {},
   "outputs": [
    {
     "data": {
      "text/plain": [
       "20"
      ]
     },
     "execution_count": 28,
     "metadata": {},
     "output_type": "execute_result"
    }
   ],
   "source": [
    "len(tot_ast_bank)"
   ]
  },
  {
   "cell_type": "code",
   "execution_count": null,
   "metadata": {},
   "outputs": [],
   "source": []
  },
  {
   "cell_type": "code",
   "execution_count": 11,
   "metadata": {
    "collapsed": true
   },
   "outputs": [],
   "source": [
    "Asteroid_Name = []\n",
    "Orbit_ID = []\n",
    "Orbital_period = []\n",
    "Aphelion_distance = []\n",
    "Perihelion_distance = []\n",
    "Eccentricity = []\n",
    "Inclination = []\n",
    "Orbit_Uncertainty = []\n",
    "\n",
    "\n",
    "for i in range(len(tot_ast_bank)):\n",
    "    for j in range(20):\n",
    "        Asteroid_Name.append(tot_ast_bank[i]['near_earth_objects'][j]['name'])\n",
    "        Aphelion_distance.append(tot_ast_bank[i]['near_earth_objects'][j]['orbital_data']['aphelion_distance'])\n",
    "        Eccentricity.append(tot_ast_bank[i]['near_earth_objects'][j]['orbital_data']['eccentricity'])\n",
    "        Inclination.append(tot_ast_bank[i]['near_earth_objects'][j]['orbital_data']['inclination'])\n",
    "        Orbit_ID.append(tot_ast_bank[i]['near_earth_objects'][j]['orbital_data']['orbit_id'])\n",
    "        Orbital_period.append(tot_ast_bank[i]['near_earth_objects'][j]['orbital_data']['orbital_period'])\n",
    "        Perihelion_distance.append(tot_ast_bank[i]['near_earth_objects'][j]['orbital_data']['perihelion_distance'])\n",
    "        Orbit_Uncertainty.append(tot_ast_bank[i]['near_earth_objects'][j]['orbital_data']['orbit_uncertainty'])\n",
    "        \n",
    "        \n",
    "        \n",
    "        \n",
    "        \n",
    "        "
   ]
  },
  {
   "cell_type": "code",
   "execution_count": 12,
   "metadata": {},
   "outputs": [
    {
     "data": {
      "text/plain": [
       "400"
      ]
     },
     "execution_count": 12,
     "metadata": {},
     "output_type": "execute_result"
    }
   ],
   "source": [
    "len(Asteroid_Name)"
   ]
  },
  {
   "cell_type": "code",
   "execution_count": 13,
   "metadata": {
    "collapsed": true,
    "scrolled": true
   },
   "outputs": [],
   "source": [
    "asteroid_orbit_df = pd.DataFrame({\n",
    "    \"Asteroid Name\" : Asteroid_Name,\n",
    "    'Orbit ID' : Orbit_ID,\n",
    "    'Orbital Period' : Orbital_period,\n",
    "    'Aphelion Distance (AU)' : Aphelion_distance,\n",
    "    'Perihelion Distance (AU)' : Perihelion_distance,\n",
    "    'Eccentricity' : Eccentricity,\n",
    "    'Inclination (Degrees)' : Inclination,\n",
    "    'Orbit Uncertainty': Orbit_Uncertainty\n",
    "})\n",
    "\n",
    "ast1_df = asteroid_orbit_df.groupby('Asteroid Name').max()\n",
    "ast2_df = ast1_df.sort_values(by=\"Orbital Period\", ascending=0)\n",
    "ast2_df['Aphelion Distance (AU)'] = pd.to_numeric(ast2_df['Aphelion Distance (AU)'])\n",
    "ast2_df['Eccentricity'] = pd.to_numeric(ast2_df['Eccentricity'])\n",
    "ast2_df['Orbital Period'] = pd.to_numeric(ast2_df[\"Orbital Period\"])\n",
    "ast2_df['Perihelion Distance (AU)'] = pd.to_numeric(ast2_df['Perihelion Distance (AU)'])\n",
    "ast2_df['Inclination (Degrees)'] = pd.to_numeric(ast2_df['Inclination (Degrees)'])"
   ]
  },
  {
   "cell_type": "code",
   "execution_count": 14,
   "metadata": {},
   "outputs": [
    {
     "data": {
      "text/plain": [
       "Aphelion Distance (AU)      float64\n",
       "Eccentricity                float64\n",
       "Inclination (Degrees)       float64\n",
       "Orbit ID                     object\n",
       "Orbit Uncertainty            object\n",
       "Orbital Period              float64\n",
       "Perihelion Distance (AU)    float64\n",
       "dtype: object"
      ]
     },
     "execution_count": 14,
     "metadata": {},
     "output_type": "execute_result"
    }
   ],
   "source": [
    "ast2_df.dtypes"
   ]
  },
  {
   "cell_type": "code",
   "execution_count": 15,
   "metadata": {},
   "outputs": [
    {
     "data": {
      "text/html": [
       "<div>\n",
       "<style>\n",
       "    .dataframe thead tr:only-child th {\n",
       "        text-align: right;\n",
       "    }\n",
       "\n",
       "    .dataframe thead th {\n",
       "        text-align: left;\n",
       "    }\n",
       "\n",
       "    .dataframe tbody tr th {\n",
       "        vertical-align: top;\n",
       "    }\n",
       "</style>\n",
       "<table border=\"1\" class=\"dataframe\">\n",
       "  <thead>\n",
       "    <tr style=\"text-align: right;\">\n",
       "      <th></th>\n",
       "      <th>Aphelion Distance (AU)</th>\n",
       "      <th>Eccentricity</th>\n",
       "      <th>Inclination (Degrees)</th>\n",
       "      <th>Orbit ID</th>\n",
       "      <th>Orbit Uncertainty</th>\n",
       "      <th>Orbital Period</th>\n",
       "      <th>Perihelion Distance (AU)</th>\n",
       "    </tr>\n",
       "    <tr>\n",
       "      <th>Asteroid Name</th>\n",
       "      <th></th>\n",
       "      <th></th>\n",
       "      <th></th>\n",
       "      <th></th>\n",
       "      <th></th>\n",
       "      <th></th>\n",
       "      <th></th>\n",
       "    </tr>\n",
       "  </thead>\n",
       "  <tbody>\n",
       "    <tr>\n",
       "      <th>(2002 CB26)</th>\n",
       "      <td>3.364498</td>\n",
       "      <td>0.723022</td>\n",
       "      <td>6.818846</td>\n",
       "      <td>8</td>\n",
       "      <td>9</td>\n",
       "      <td>996.649265</td>\n",
       "      <td>0.540846</td>\n",
       "    </tr>\n",
       "    <tr>\n",
       "      <th>(2002 SN)</th>\n",
       "      <td>2.686068</td>\n",
       "      <td>0.377997</td>\n",
       "      <td>6.425275</td>\n",
       "      <td>20</td>\n",
       "      <td>5</td>\n",
       "      <td>994.034462</td>\n",
       "      <td>1.212443</td>\n",
       "    </tr>\n",
       "    <tr>\n",
       "      <th>(2000 WJ107)</th>\n",
       "      <td>3.033096</td>\n",
       "      <td>0.558187</td>\n",
       "      <td>5.993291</td>\n",
       "      <td>12</td>\n",
       "      <td>7</td>\n",
       "      <td>991.969243</td>\n",
       "      <td>0.860013</td>\n",
       "    </tr>\n",
       "    <tr>\n",
       "      <th>(1998 VP)</th>\n",
       "      <td>2.865972</td>\n",
       "      <td>0.475391</td>\n",
       "      <td>44.706727</td>\n",
       "      <td>12</td>\n",
       "      <td>9</td>\n",
       "      <td>988.885145</td>\n",
       "      <td>1.019063</td>\n",
       "    </tr>\n",
       "    <tr>\n",
       "      <th>(1995 CS)</th>\n",
       "      <td>3.446606</td>\n",
       "      <td>0.775217</td>\n",
       "      <td>2.602908</td>\n",
       "      <td>12</td>\n",
       "      <td>9</td>\n",
       "      <td>988.117259</td>\n",
       "      <td>0.436418</td>\n",
       "    </tr>\n",
       "  </tbody>\n",
       "</table>\n",
       "</div>"
      ],
      "text/plain": [
       "               Aphelion Distance (AU)  Eccentricity  Inclination (Degrees)  \\\n",
       "Asteroid Name                                                                \n",
       "(2002 CB26)                  3.364498      0.723022               6.818846   \n",
       "(2002 SN)                    2.686068      0.377997               6.425275   \n",
       "(2000 WJ107)                 3.033096      0.558187               5.993291   \n",
       "(1998 VP)                    2.865972      0.475391              44.706727   \n",
       "(1995 CS)                    3.446606      0.775217               2.602908   \n",
       "\n",
       "              Orbit ID Orbit Uncertainty  Orbital Period  \\\n",
       "Asteroid Name                                              \n",
       "(2002 CB26)          8                 9      996.649265   \n",
       "(2002 SN)           20                 5      994.034462   \n",
       "(2000 WJ107)        12                 7      991.969243   \n",
       "(1998 VP)           12                 9      988.885145   \n",
       "(1995 CS)           12                 9      988.117259   \n",
       "\n",
       "               Perihelion Distance (AU)  \n",
       "Asteroid Name                            \n",
       "(2002 CB26)                    0.540846  \n",
       "(2002 SN)                      1.212443  \n",
       "(2000 WJ107)                   0.860013  \n",
       "(1998 VP)                      1.019063  \n",
       "(1995 CS)                      0.436418  "
      ]
     },
     "execution_count": 15,
     "metadata": {},
     "output_type": "execute_result"
    }
   ],
   "source": [
    "ast2_df.head()"
   ]
  },
  {
   "cell_type": "code",
   "execution_count": 16,
   "metadata": {
    "collapsed": true
   },
   "outputs": [],
   "source": [
    "#AU to Miles is 1 : 92,955,807.273026 Miles\n",
    "\n",
    "AU_Miles_Conversion = 92955807.273026\n",
    "\n",
    "ast2_df['Aphelion Distance (miles)'] = ast2_df['Aphelion Distance (AU)'] * AU_Miles_Conversion\n",
    "ast2_df['Perihelion Distance (miles)'] = ast2_df['Perihelion Distance (AU)'] * AU_Miles_Conversion\n",
    "ast2_df[\"Orbital Period\"] = ast2_df[\"Orbital Period\"].map('{:,.1f}'.format)"
   ]
  },
  {
   "cell_type": "code",
   "execution_count": 17,
   "metadata": {
    "scrolled": true
   },
   "outputs": [
    {
     "data": {
      "text/html": [
       "<div>\n",
       "<style>\n",
       "    .dataframe thead tr:only-child th {\n",
       "        text-align: right;\n",
       "    }\n",
       "\n",
       "    .dataframe thead th {\n",
       "        text-align: left;\n",
       "    }\n",
       "\n",
       "    .dataframe tbody tr th {\n",
       "        vertical-align: top;\n",
       "    }\n",
       "</style>\n",
       "<table border=\"1\" class=\"dataframe\">\n",
       "  <thead>\n",
       "    <tr style=\"text-align: right;\">\n",
       "      <th></th>\n",
       "      <th>Aphelion Distance (AU)</th>\n",
       "      <th>Eccentricity</th>\n",
       "      <th>Inclination (Degrees)</th>\n",
       "      <th>Orbit ID</th>\n",
       "      <th>Orbit Uncertainty</th>\n",
       "      <th>Orbital Period</th>\n",
       "      <th>Perihelion Distance (AU)</th>\n",
       "      <th>Aphelion Distance (miles)</th>\n",
       "      <th>Perihelion Distance (miles)</th>\n",
       "    </tr>\n",
       "    <tr>\n",
       "      <th>Asteroid Name</th>\n",
       "      <th></th>\n",
       "      <th></th>\n",
       "      <th></th>\n",
       "      <th></th>\n",
       "      <th></th>\n",
       "      <th></th>\n",
       "      <th></th>\n",
       "      <th></th>\n",
       "      <th></th>\n",
       "    </tr>\n",
       "  </thead>\n",
       "  <tbody>\n",
       "    <tr>\n",
       "      <th>(2002 CB26)</th>\n",
       "      <td>3.364498</td>\n",
       "      <td>0.723022</td>\n",
       "      <td>6.818846</td>\n",
       "      <td>8</td>\n",
       "      <td>9</td>\n",
       "      <td>996.6</td>\n",
       "      <td>0.540846</td>\n",
       "      <td>3.127496e+08</td>\n",
       "      <td>5.027481e+07</td>\n",
       "    </tr>\n",
       "    <tr>\n",
       "      <th>(2002 SN)</th>\n",
       "      <td>2.686068</td>\n",
       "      <td>0.377997</td>\n",
       "      <td>6.425275</td>\n",
       "      <td>20</td>\n",
       "      <td>5</td>\n",
       "      <td>994.0</td>\n",
       "      <td>1.212443</td>\n",
       "      <td>2.496856e+08</td>\n",
       "      <td>1.127036e+08</td>\n",
       "    </tr>\n",
       "    <tr>\n",
       "      <th>(2000 WJ107)</th>\n",
       "      <td>3.033096</td>\n",
       "      <td>0.558187</td>\n",
       "      <td>5.993291</td>\n",
       "      <td>12</td>\n",
       "      <td>7</td>\n",
       "      <td>992.0</td>\n",
       "      <td>0.860013</td>\n",
       "      <td>2.819438e+08</td>\n",
       "      <td>7.994321e+07</td>\n",
       "    </tr>\n",
       "    <tr>\n",
       "      <th>(1998 VP)</th>\n",
       "      <td>2.865972</td>\n",
       "      <td>0.475391</td>\n",
       "      <td>44.706727</td>\n",
       "      <td>12</td>\n",
       "      <td>9</td>\n",
       "      <td>988.9</td>\n",
       "      <td>1.019063</td>\n",
       "      <td>2.664088e+08</td>\n",
       "      <td>9.472781e+07</td>\n",
       "    </tr>\n",
       "    <tr>\n",
       "      <th>(1995 CS)</th>\n",
       "      <td>3.446606</td>\n",
       "      <td>0.775217</td>\n",
       "      <td>2.602908</td>\n",
       "      <td>12</td>\n",
       "      <td>9</td>\n",
       "      <td>988.1</td>\n",
       "      <td>0.436418</td>\n",
       "      <td>3.203820e+08</td>\n",
       "      <td>4.056760e+07</td>\n",
       "    </tr>\n",
       "  </tbody>\n",
       "</table>\n",
       "</div>"
      ],
      "text/plain": [
       "               Aphelion Distance (AU)  Eccentricity  Inclination (Degrees)  \\\n",
       "Asteroid Name                                                                \n",
       "(2002 CB26)                  3.364498      0.723022               6.818846   \n",
       "(2002 SN)                    2.686068      0.377997               6.425275   \n",
       "(2000 WJ107)                 3.033096      0.558187               5.993291   \n",
       "(1998 VP)                    2.865972      0.475391              44.706727   \n",
       "(1995 CS)                    3.446606      0.775217               2.602908   \n",
       "\n",
       "              Orbit ID Orbit Uncertainty Orbital Period  \\\n",
       "Asteroid Name                                             \n",
       "(2002 CB26)          8                 9          996.6   \n",
       "(2002 SN)           20                 5          994.0   \n",
       "(2000 WJ107)        12                 7          992.0   \n",
       "(1998 VP)           12                 9          988.9   \n",
       "(1995 CS)           12                 9          988.1   \n",
       "\n",
       "               Perihelion Distance (AU)  Aphelion Distance (miles)  \\\n",
       "Asteroid Name                                                        \n",
       "(2002 CB26)                    0.540846               3.127496e+08   \n",
       "(2002 SN)                      1.212443               2.496856e+08   \n",
       "(2000 WJ107)                   0.860013               2.819438e+08   \n",
       "(1998 VP)                      1.019063               2.664088e+08   \n",
       "(1995 CS)                      0.436418               3.203820e+08   \n",
       "\n",
       "               Perihelion Distance (miles)  \n",
       "Asteroid Name                               \n",
       "(2002 CB26)                   5.027481e+07  \n",
       "(2002 SN)                     1.127036e+08  \n",
       "(2000 WJ107)                  7.994321e+07  \n",
       "(1998 VP)                     9.472781e+07  \n",
       "(1995 CS)                     4.056760e+07  "
      ]
     },
     "execution_count": 17,
     "metadata": {},
     "output_type": "execute_result"
    }
   ],
   "source": [
    "column_reindex = [\"Orbit ID\", \"Orbit Uncertainty\", \"Orbital Period\",\"Aphelion Distance (AU)\", \"Perihelion Distance (AU)\", \"Aphelion Distance (miles)\", \"Perihelion Distance (miles)\"]\n",
    "ast2_df.reindex(columns=column_reindex)\n",
    "ast2_df.head()"
   ]
  },
  {
   "cell_type": "code",
   "execution_count": 18,
   "metadata": {},
   "outputs": [
    {
     "data": {
      "text/plain": [
       "Aphelion Distance (AU)         float64\n",
       "Eccentricity                   float64\n",
       "Inclination (Degrees)          float64\n",
       "Orbit ID                        object\n",
       "Orbit Uncertainty               object\n",
       "Orbital Period                  object\n",
       "Perihelion Distance (AU)       float64\n",
       "Aphelion Distance (miles)      float64\n",
       "Perihelion Distance (miles)    float64\n",
       "dtype: object"
      ]
     },
     "execution_count": 18,
     "metadata": {},
     "output_type": "execute_result"
    }
   ],
   "source": [
    "ast2_df.dtypes"
   ]
  },
  {
   "cell_type": "code",
   "execution_count": 19,
   "metadata": {
    "collapsed": true
   },
   "outputs": [],
   "source": [
    "ast2_df.to_csv(\"full_orbital_data.csv\")"
   ]
  },
  {
   "cell_type": "code",
   "execution_count": 25,
   "metadata": {
    "collapsed": true
   },
   "outputs": [],
   "source": [
    "resp = req.get(query_url).json()"
   ]
  },
  {
   "cell_type": "code",
   "execution_count": null,
   "metadata": {},
   "outputs": [],
   "source": []
  },
  {
   "cell_type": "code",
   "execution_count": 22,
   "metadata": {
    "collapsed": true
   },
   "outputs": [],
   "source": [
    "new_ast_bank = []\n",
    "for i in range(48):\n",
    "    new_ast_bank.append(req.get(query_url).json())\n",
    "    \n",
    "    "
   ]
  },
  {
   "cell_type": "code",
   "execution_count": null,
   "metadata": {
    "collapsed": true
   },
   "outputs": [],
   "source": [
    "\n",
    "for i in range(len(new_ast_bank)): \n",
    "    #print (i)\n",
    "    for j in range(20):\n",
    "        #print (j)\n",
    "        for k in range(len(tot_ast_bank[i][\"near_earth_objects\"][j][\"close_approach_data\"])):\n",
    "            holder1=tot_ast_bank[i][\"near_earth_objects\"][j][\"name\"]\n",
    "            ast_name.append(holder1)\n",
    "            holder2=tot_ast_bank[i][\"near_earth_objects\"][j][\"close_approach_data\"][k][\"close_approach_date\"]\n",
    "            approach_date.append(holder2)\n",
    "            holder3= tot_ast_bank[i][\"near_earth_objects\"][j][\"estimated_diameter\"][\"miles\"][\"estimated_diameter_max\"]           \n",
    "            ast_size_max_miles.append(holder3)\n",
    "            holder4= tot_ast_bank[i][\"near_earth_objects\"][j][\"estimated_diameter\"][\"miles\"][\"estimated_diameter_min\"]           \n",
    "            ast_size_min_miles.append(holder4)\n",
    "            holder5= tot_ast_bank[i][\"near_earth_objects\"][j][\"close_approach_data\"][k][\"miss_distance\"][\"miles\"]           \n",
    "            ast_miss_distance.append(holder5)\n",
    "            holder6= tot_ast_bank[i][\"near_earth_objects\"][j][\"close_approach_data\"][k][\"relative_velocity\"][\"miles_per_hour\"]           \n",
    "            rel_velocity_mph.append(holder6)\n",
    "            holder7= tot_ast_bank[i][\"near_earth_objects\"][j][\"is_potentially_hazardous_asteroid\"]\n",
    "            hazardous.append(holder7)"
   ]
  },
  {
   "cell_type": "code",
   "execution_count": 24,
   "metadata": {},
   "outputs": [
    {
     "ename": "SyntaxError",
     "evalue": "unexpected EOF while parsing (<ipython-input-24-a303d68622da>, line 6)",
     "output_type": "error",
     "traceback": [
      "\u001b[0;36m  File \u001b[0;32m\"<ipython-input-24-a303d68622da>\"\u001b[0;36m, line \u001b[0;32m6\u001b[0m\n\u001b[0;31m    \u001b[0m\n\u001b[0m    ^\u001b[0m\n\u001b[0;31mSyntaxError\u001b[0m\u001b[0;31m:\u001b[0m unexpected EOF while parsing\n"
     ]
    }
   ],
   "source": [
    "\n",
    "      "
   ]
  }
 ],
 "metadata": {
  "kernelspec": {
   "display_name": "Python 3",
   "language": "python",
   "name": "python3"
  },
  "language_info": {
   "codemirror_mode": {
    "name": "ipython",
    "version": 3
   },
   "file_extension": ".py",
   "mimetype": "text/x-python",
   "name": "python",
   "nbconvert_exporter": "python",
   "pygments_lexer": "ipython3",
   "version": "3.6.1"
  }
 },
 "nbformat": 4,
 "nbformat_minor": 2
}
